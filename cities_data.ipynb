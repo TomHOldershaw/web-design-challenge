{
 "cells": [
  {
   "cell_type": "code",
   "execution_count": 1,
   "id": "a10b988e",
   "metadata": {},
   "outputs": [],
   "source": [
    "import pandas as pd"
   ]
  },
  {
   "cell_type": "code",
   "execution_count": 3,
   "id": "638d9722",
   "metadata": {},
   "outputs": [],
   "source": [
    "cities = pd.read_csv(\"docs/Resources/cities.csv\")"
   ]
  },
  {
   "cell_type": "code",
   "execution_count": 4,
   "id": "82e9a174",
   "metadata": {},
   "outputs": [],
   "source": [
    "cities = cities.set_index(\"City_ID\")"
   ]
  },
  {
   "cell_type": "code",
   "execution_count": 5,
   "id": "057ac5a9",
   "metadata": {},
   "outputs": [],
   "source": [
    "cities.to_html(\"cities.html\")"
   ]
  }
 ],
 "metadata": {
  "kernelspec": {
   "display_name": "Python 3",
   "language": "python",
   "name": "python3"
  },
  "language_info": {
   "codemirror_mode": {
    "name": "ipython",
    "version": 3
   },
   "file_extension": ".py",
   "mimetype": "text/x-python",
   "name": "python",
   "nbconvert_exporter": "python",
   "pygments_lexer": "ipython3",
   "version": "3.8.8"
  }
 },
 "nbformat": 4,
 "nbformat_minor": 5
}
